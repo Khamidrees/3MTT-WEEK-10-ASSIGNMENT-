{
  "nbformat": 4,
  "nbformat_minor": 0,
  "metadata": {
    "colab": {
      "provenance": [],
      "authorship_tag": "ABX9TyPMiZBV6mGL5vDuqPM1ZKee",
      "include_colab_link": true
    },
    "kernelspec": {
      "name": "python3",
      "display_name": "Python 3"
    },
    "language_info": {
      "name": "python"
    }
  },
  "cells": [
    {
      "cell_type": "markdown",
      "metadata": {
        "id": "view-in-github",
        "colab_type": "text"
      },
      "source": [
        "<a href=\"https://colab.research.google.com/github/Khamidrees/3MTT-WEEK-10-ASSIGNMENT-/blob/main/Week_5_COVI_FE23883757.ipynb\" target=\"_parent\"><img src=\"https://colab.research.google.com/assets/colab-badge.svg\" alt=\"Open In Colab\"/></a>"
      ]
    },
    {
      "cell_type": "markdown",
      "source": [
        "#  Assignment 1: Modify Vanilla GAN with Perceptual Loss (VGG)\n"
      ],
      "metadata": {
        "id": "5HJ3txkaSwwj"
      }
    },
    {
      "cell_type": "code",
      "execution_count": 2,
      "metadata": {
        "id": "dCryfEeJQI6N"
      },
      "outputs": [],
      "source": [
        "\n",
        "# Step 1: Install torchvision (if not already installed)\n",
        "!pip install torchvision --quiet\n",
        "\n",
        "# Step 2: Import necessary modules\n",
        "import torch\n",
        "import torch.nn as nn\n",
        "import torchvision\n",
        "from torchvision import models\n",
        "from torchvision import transforms\n",
        "from torchvision.datasets import MNIST\n",
        "from torch.utils.data import DataLoader\n",
        "import matplotlib.pyplot as plt\n",
        "import numpy as np\n",
        "\n"
      ]
    },
    {
      "cell_type": "code",
      "source": [
        "# Step 3: Define Generator and Discriminator (Vanilla GAN)\n",
        "class Generator(nn.Module):\n",
        "    def __init__(self):\n",
        "        super(Generator, self).__init__()\n",
        "        self.main = nn.Sequential(\n",
        "            nn.Linear(100, 256),\n",
        "            nn.ReLU(),\n",
        "            nn.Linear(256, 512),\n",
        "            nn.ReLU(),\n",
        "            nn.Linear(512, 784),\n",
        "            nn.Tanh()\n",
        "        )\n",
        "\n",
        "    def forward(self, z):\n",
        "        return self.main(z).view(-1, 1, 28, 28)\n",
        "\n",
        "\n",
        "class Discriminator(nn.Module):\n",
        "    def __init__(self):\n",
        "        super(Discriminator, self).__init__()\n",
        "        self.main = nn.Sequential(\n",
        "            nn.Flatten(),\n",
        "            nn.Linear(784, 512),\n",
        "            nn.LeakyReLU(0.2),\n",
        "            nn.Linear(512, 256),\n",
        "            nn.LeakyReLU(0.2),\n",
        "            nn.Linear(256, 1),\n",
        "            nn.Sigmoid()\n",
        "        )\n",
        "\n",
        "    def forward(self, x):\n",
        "        return self.main(x)\n"
      ],
      "metadata": {
        "id": "gKO4HkvXTZu6"
      },
      "execution_count": 3,
      "outputs": []
    },
    {
      "cell_type": "code",
      "source": [
        "# Step 4: Load MNIST data\n",
        "transform = transforms.Compose([transforms.ToTensor(), transforms.Normalize((0.5,), (0.5,))])\n",
        "train_data = MNIST(root='./data', train=True, download=True, transform=transform)\n",
        "train_loader = DataLoader(train_data, batch_size=64, shuffle=True)\n"
      ],
      "metadata": {
        "colab": {
          "base_uri": "https://localhost:8080/",
          "height": 0
        },
        "id": "HAnTXjkuT0hr",
        "outputId": "62219ffc-3e0f-4280-9501-91aa3c4cba38"
      },
      "execution_count": 4,
      "outputs": [
        {
          "output_type": "stream",
          "name": "stderr",
          "text": [
            "100%|██████████| 9.91M/9.91M [00:00<00:00, 113MB/s]\n",
            "100%|██████████| 28.9k/28.9k [00:00<00:00, 35.9MB/s]\n",
            "100%|██████████| 1.65M/1.65M [00:00<00:00, 84.9MB/s]\n",
            "100%|██████████| 4.54k/4.54k [00:00<00:00, 5.30MB/s]\n"
          ]
        }
      ]
    },
    {
      "cell_type": "code",
      "source": [
        "# Step 5: Load VGG16 model for perceptual loss\n",
        "vgg = models.vgg16(pretrained=True).features[:4].eval()  # Use shallow layers only\n",
        "for param in vgg.parameters():\n",
        "    param.requires_grad = False\n",
        "\n",
        "# Convert 1-channel MNIST images to 3-channel\n",
        "def to_rgb(x):\n",
        "    return x.expand(-1, 3, -1, -1)\n",
        "\n",
        "# Perceptual loss: MSE between VGG features\n",
        "class PerceptualLoss(nn.Module):\n",
        "    def __init__(self, vgg):\n",
        "        super(PerceptualLoss, self).__init__()\n",
        "        self.vgg = vgg\n",
        "        self.mse = nn.MSELoss()\n",
        "\n",
        "    def forward(self, real, fake):\n",
        "        real_feat = self.vgg(to_rgb(real))\n",
        "        fake_feat = self.vgg(to_rgb(fake))\n",
        "        return self.mse(real_feat, fake_feat)\n",
        "\n"
      ],
      "metadata": {
        "colab": {
          "base_uri": "https://localhost:8080/",
          "height": 0
        },
        "id": "ULSY_bsOT9Oo",
        "outputId": "044571da-f524-4da3-8237-ea0435d438ce"
      },
      "execution_count": 5,
      "outputs": [
        {
          "output_type": "stream",
          "name": "stderr",
          "text": [
            "/usr/local/lib/python3.11/dist-packages/torchvision/models/_utils.py:208: UserWarning: The parameter 'pretrained' is deprecated since 0.13 and may be removed in the future, please use 'weights' instead.\n",
            "  warnings.warn(\n",
            "/usr/local/lib/python3.11/dist-packages/torchvision/models/_utils.py:223: UserWarning: Arguments other than a weight enum or `None` for 'weights' are deprecated since 0.13 and may be removed in the future. The current behavior is equivalent to passing `weights=VGG16_Weights.IMAGENET1K_V1`. You can also use `weights=VGG16_Weights.DEFAULT` to get the most up-to-date weights.\n",
            "  warnings.warn(msg)\n",
            "Downloading: \"https://download.pytorch.org/models/vgg16-397923af.pth\" to /root/.cache/torch/hub/checkpoints/vgg16-397923af.pth\n",
            "100%|██████████| 528M/528M [00:06<00:00, 80.8MB/s]\n"
          ]
        }
      ]
    },
    {
      "cell_type": "code",
      "source": [
        "# Step 6: Instantiate models and optimizers\n",
        "G = Generator()\n",
        "D = Discriminator()\n",
        "perceptual_loss = PerceptualLoss(vgg)\n",
        "\n",
        "criterion = nn.BCELoss()\n",
        "optimizer_G = torch.optim.Adam(G.parameters(), lr=0.0002)\n",
        "optimizer_D = torch.optim.Adam(D.parameters(), lr=0.0002)\n",
        "\n"
      ],
      "metadata": {
        "id": "a7WdaMI5UHlo"
      },
      "execution_count": 6,
      "outputs": []
    },
    {
      "cell_type": "code",
      "source": [
        "# Step 7: Training loop\n",
        "num_epochs = 10\n",
        "for epoch in range(num_epochs):\n",
        "    for real_imgs, _ in train_loader:\n",
        "        batch_size = real_imgs.size(0)\n",
        "        real_imgs = real_imgs\n",
        "\n",
        "        # Adversarial ground truths\n",
        "        valid = torch.ones((batch_size, 1))\n",
        "        fake = torch.zeros((batch_size, 1))\n",
        "\n",
        "        # Train Generator\n",
        "        optimizer_G.zero_grad()\n",
        "        z = torch.randn(batch_size, 100)\n",
        "        gen_imgs = G(z)\n",
        "        g_loss_adv = criterion(D(gen_imgs), valid)\n",
        "        g_loss_perc = perceptual_loss(real_imgs, gen_imgs)\n",
        "        g_loss = g_loss_adv + 0.01 * g_loss_perc\n",
        "        g_loss.backward()\n",
        "        optimizer_G.step()\n",
        "\n",
        "        # Train Discriminator\n",
        "        optimizer_D.zero_grad()\n",
        "        real_loss = criterion(D(real_imgs), valid)\n",
        "        fake_loss = criterion(D(gen_imgs.detach()), fake)\n",
        "        d_loss = (real_loss + fake_loss) / 2\n",
        "        d_loss.backward()\n",
        "        optimizer_D.step()\n",
        "\n",
        "    print(f\"Epoch [{epoch+1}/{num_epochs}]  D_loss: {d_loss.item():.4f}  G_loss: {g_loss.item():.4f}\")\n",
        "\n"
      ],
      "metadata": {
        "colab": {
          "base_uri": "https://localhost:8080/",
          "height": 0
        },
        "id": "6-biq0GmUYIb",
        "outputId": "3dfef5b2-434d-429b-84d3-84c29bb6e89e"
      },
      "execution_count": 7,
      "outputs": [
        {
          "metadata": {
            "tags": null
          },
          "name": "stdout",
          "output_type": "stream",
          "text": [
            "Epoch [1/10]  D_loss: 0.0185  G_loss: 4.4151\n",
            "Epoch [2/10]  D_loss: 0.3749  G_loss: 1.5874\n",
            "Epoch [3/10]  D_loss: 0.0635  G_loss: 3.2115\n",
            "Epoch [4/10]  D_loss: 0.0107  G_loss: 5.9167\n",
            "Epoch [5/10]  D_loss: 0.0021  G_loss: 7.4233\n",
            "Epoch [6/10]  D_loss: 0.0015  G_loss: 8.7638\n",
            "Epoch [7/10]  D_loss: 0.0495  G_loss: 7.2367\n",
            "Epoch [8/10]  D_loss: 0.1198  G_loss: 3.1573\n",
            "Epoch [9/10]  D_loss: 0.0284  G_loss: 4.5802\n",
            "Epoch [10/10]  D_loss: 0.0990  G_loss: 5.8138\n"
          ]
        }
      ]
    },
    {
      "cell_type": "code",
      "source": [
        "# Step 8: Generate and compare images\n",
        "z = torch.randn(8, 100)\n",
        "reconstructed_imgs = G(z).detach()\n",
        "\n",
        "fig, axes = plt.subplots(1, 8, figsize=(16, 2))\n",
        "for i, img in enumerate(reconstructed_imgs):\n",
        "    axes[i].imshow(img.squeeze(), cmap='gray')\n",
        "    axes[i].axis('off')\n",
        "plt.suptitle(\"Generated Images using GAN + Perceptual Loss\")\n",
        "plt.show()\n",
        "\n"
      ],
      "metadata": {
        "colab": {
          "base_uri": "https://localhost:8080/",
          "height": 199
        },
        "id": "I7cGwbHKUhKN",
        "outputId": "27b145ea-2790-4eff-a8ec-eec5d52da165"
      },
      "execution_count": 8,
      "outputs": [
        {
          "output_type": "display_data",
          "data": {
            "text/plain": [
              "<Figure size 1600x200 with 8 Axes>"
            ],
            "image/png": "[encoded data removed]"
          },
          "metadata": {}
        }
      ]
    },
    {
      "cell_type": "markdown",
      "source": [
        "# Findings:\n",
        "# Perceptual loss encourages the generator to produce images that are not just fooling the discriminator\n",
        "# but also closer in high-level structure to the real ones (e.g., edges and shapes). Visual quality improves\n",
        "# compared to using only adversarial loss.\n"
      ],
      "metadata": {
        "id": "bzLhkXiCWfe5"
      }
    }
  ]
}